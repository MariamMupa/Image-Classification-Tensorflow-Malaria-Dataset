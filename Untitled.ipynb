{
 "cells": [
  {
   "cell_type": "code",
   "execution_count": 1,
   "id": "afcffd99",
   "metadata": {},
   "outputs": [],
   "source": [
    "#!pip install --upgrade tensorflow\n",
    "#!pip install tensorflow-datasets"
   ]
  },
  {
   "cell_type": "code",
   "execution_count": 2,
   "id": "5dfe8a39-419b-4eec-81ac-0a3b66dea59e",
   "metadata": {},
   "outputs": [
    {
     "ename": "ImportError",
     "evalue": "cannot import name 'malaria' from 'tensorflow.keras.datasets' (C:\\Users\\Mariam\\anaconda3\\envs\\py310\\lib\\site-packages\\keras\\api\\_v2\\keras\\datasets\\__init__.py)",
     "output_type": "error",
     "traceback": [
      "\u001b[1;31m---------------------------------------------------------------------------\u001b[0m",
      "\u001b[1;31mImportError\u001b[0m                               Traceback (most recent call last)",
      "Cell \u001b[1;32mIn[2], line 4\u001b[0m\n\u001b[0;32m      2\u001b[0m \u001b[38;5;28;01mimport\u001b[39;00m \u001b[38;5;21;01mtensorflow_datasets\u001b[39;00m \u001b[38;5;28;01mas\u001b[39;00m \u001b[38;5;21;01mtfds\u001b[39;00m\n\u001b[0;32m      3\u001b[0m \u001b[38;5;28;01mfrom\u001b[39;00m \u001b[38;5;21;01mtensorflow\u001b[39;00m\u001b[38;5;21;01m.\u001b[39;00m\u001b[38;5;21;01mkeras\u001b[39;00m \u001b[38;5;28;01mimport\u001b[39;00m datasets\n\u001b[1;32m----> 4\u001b[0m \u001b[38;5;28;01mfrom\u001b[39;00m \u001b[38;5;21;01mtensorflow\u001b[39;00m\u001b[38;5;21;01m.\u001b[39;00m\u001b[38;5;21;01mkeras\u001b[39;00m\u001b[38;5;21;01m.\u001b[39;00m\u001b[38;5;21;01mdatasets\u001b[39;00m \u001b[38;5;28;01mimport\u001b[39;00m malaria\n\u001b[0;32m      5\u001b[0m \u001b[38;5;28;01mfrom\u001b[39;00m \u001b[38;5;21;01mtensorflow\u001b[39;00m\u001b[38;5;21;01m.\u001b[39;00m\u001b[38;5;21;01mkeras\u001b[39;00m \u001b[38;5;28;01mimport\u001b[39;00m layers\n\u001b[0;32m      6\u001b[0m \u001b[38;5;28;01mfrom\u001b[39;00m \u001b[38;5;21;01mtensorflow\u001b[39;00m\u001b[38;5;21;01m.\u001b[39;00m\u001b[38;5;21;01mkeras\u001b[39;00m \u001b[38;5;28;01mimport\u001b[39;00m models\n",
      "\u001b[1;31mImportError\u001b[0m: cannot import name 'malaria' from 'tensorflow.keras.datasets' (C:\\Users\\Mariam\\anaconda3\\envs\\py310\\lib\\site-packages\\keras\\api\\_v2\\keras\\datasets\\__init__.py)"
     ]
    }
   ],
   "source": [
    "import tensorflow as tf\n",
    "import tensorflow_datasets as tfds\n",
    "from tensorflow.keras import datasets\n",
    "from tensorflow.keras.datasets import malaria\n",
    "from tensorflow.keras import layers\n",
    "from tensorflow.keras import models\n",
    "from tensorflow.keras import Dense\n",
    "from tensorflow.keras import Sequential\n",
    "from tensorflow.keras.utils import to_categorical"
   ]
  },
  {
   "cell_type": "code",
   "execution_count": 3,
   "id": "0d21473b-242c-4bde-88a4-d471a4de0497",
   "metadata": {},
   "outputs": [
    {
     "ename": "DatasetNotFoundError",
     "evalue": "Dataset malaria not found. Available datasets:\n\t- abstract_reasoning\n\t- aflw2k3d\n\t- amazon_us_reviews\n\t- bair_robot_pushing_small\n\t- bigearthnet\n\t- binarized_mnist\n\t- binary_alpha_digits\n\t- caltech101\n\t- caltech_birds2010\n\t- caltech_birds2011\n\t- cats_vs_dogs\n\t- celeb_a\n\t- celeb_a_hq\n\t- chexpert\n\t- cifar10\n\t- cifar100\n\t- cifar10_corrupted\n\t- clevr\n\t- cnn_dailymail\n\t- coco\n\t- coco2014\n\t- coil100\n\t- colorectal_histology\n\t- colorectal_histology_large\n\t- curated_breast_imaging_ddsm\n\t- cycle_gan\n\t- deep_weeds\n\t- definite_pronoun_resolution\n\t- diabetic_retinopathy_detection\n\t- downsampled_imagenet\n\t- dsprites\n\t- dtd\n\t- dummy_dataset_shared_generator\n\t- dummy_mnist\n\t- emnist\n\t- eurosat\n\t- fashion_mnist\n\t- flores\n\t- food101\n\t- gap\n\t- glue\n\t- groove\n\t- higgs\n\t- horses_or_humans\n\t- image_label_folder\n\t- imagenet2012\n\t- imagenet2012_corrupted\n\t- imdb_reviews\n\t- iris\n\t- kitti\n\t- kmnist\n\t- lfw\n\t- lm1b\n\t- lsun\n\t- mnist\n\t- mnist_corrupted\n\t- moving_mnist\n\t- multi_nli\n\t- nsynth\n\t- omniglot\n\t- open_images_v4\n\t- oxford_flowers102\n\t- oxford_iiit_pet\n\t- para_crawl\n\t- patch_camelyon\n\t- pet_finder\n\t- quickdraw_bitmap\n\t- resisc45\n\t- rock_paper_scissors\n\t- rock_you\n\t- scene_parse150\n\t- shapes3d\n\t- smallnorb\n\t- snli\n\t- so2sat\n\t- squad\n\t- stanford_dogs\n\t- stanford_online_products\n\t- starcraft_video\n\t- sun397\n\t- super_glue\n\t- svhn_cropped\n\t- ted_hrlr_translate\n\t- ted_multi_translate\n\t- tf_flowers\n\t- titanic\n\t- trivia_qa\n\t- uc_merced\n\t- ucf101\n\t- visual_domain_decathlon\n\t- voc2007\n\t- wikipedia\n\t- wmt14_translate\n\t- wmt15_translate\n\t- wmt16_translate\n\t- wmt17_translate\n\t- wmt18_translate\n\t- wmt19_translate\n\t- wmt_t2t_translate\n\t- wmt_translate\n\t- xnli\nCheck that:\n    - the dataset name is spelled correctly\n    - dataset class defines all base class abstract methods\n    - dataset class is not in development, i.e. if IN_DEVELOPMENT=True\n    - the module defining the dataset class is imported\n",
     "output_type": "error",
     "traceback": [
      "\u001b[1;31m---------------------------------------------------------------------------\u001b[0m",
      "\u001b[1;31mDatasetNotFoundError\u001b[0m                      Traceback (most recent call last)",
      "Cell \u001b[1;32mIn[3], line 2\u001b[0m\n\u001b[0;32m      1\u001b[0m \u001b[38;5;66;03m# Load the malaria dataset\u001b[39;00m\n\u001b[1;32m----> 2\u001b[0m malaria_dataset, malaria_info \u001b[38;5;241m=\u001b[39m \u001b[43mtfds\u001b[49m\u001b[38;5;241;43m.\u001b[39;49m\u001b[43mload\u001b[49m\u001b[43m(\u001b[49m\u001b[43mname\u001b[49m\u001b[38;5;241;43m=\u001b[39;49m\u001b[38;5;124;43m'\u001b[39;49m\u001b[38;5;124;43mmalaria\u001b[39;49m\u001b[38;5;124;43m'\u001b[39;49m\u001b[43m,\u001b[49m\u001b[43m \u001b[49m\u001b[43msplit\u001b[49m\u001b[38;5;241;43m=\u001b[39;49m\u001b[38;5;124;43m'\u001b[39;49m\u001b[38;5;124;43mtrain\u001b[39;49m\u001b[38;5;124;43m'\u001b[39;49m\u001b[43m,\u001b[49m\u001b[43m \u001b[49m\u001b[43mwith_info\u001b[49m\u001b[38;5;241;43m=\u001b[39;49m\u001b[38;5;28;43;01mTrue\u001b[39;49;00m\u001b[43m)\u001b[49m\n\u001b[0;32m      4\u001b[0m \u001b[38;5;66;03m# Print dataset information\u001b[39;00m\n\u001b[0;32m      5\u001b[0m \u001b[38;5;28mprint\u001b[39m(malaria_info)\n",
      "File \u001b[1;32m~\\anaconda3\\envs\\py310\\lib\\site-packages\\tensorflow_datasets\\core\\api_utils.py:52\u001b[0m, in \u001b[0;36mdisallow_positional_args.<locals>.disallow_positional_args_dec\u001b[1;34m(fn, instance, args, kwargs)\u001b[0m\n\u001b[0;32m     50\u001b[0m _check_no_positional(fn, args, ismethod, allowed\u001b[38;5;241m=\u001b[39mallowed)\n\u001b[0;32m     51\u001b[0m _check_required(fn, kwargs)\n\u001b[1;32m---> 52\u001b[0m \u001b[38;5;28;01mreturn\u001b[39;00m fn(\u001b[38;5;241m*\u001b[39margs, \u001b[38;5;241m*\u001b[39m\u001b[38;5;241m*\u001b[39mkwargs)\n",
      "File \u001b[1;32m~\\anaconda3\\envs\\py310\\lib\\site-packages\\tensorflow_datasets\\core\\registered.py:297\u001b[0m, in \u001b[0;36mload\u001b[1;34m(name, split, data_dir, batch_size, in_memory, shuffle_files, download, as_supervised, decoders, with_info, builder_kwargs, download_and_prepare_kwargs, as_dataset_kwargs, try_gcs)\u001b[0m\n\u001b[0;32m    294\u001b[0m \u001b[38;5;28;01melif\u001b[39;00m data_dir \u001b[38;5;129;01mis\u001b[39;00m \u001b[38;5;28;01mNone\u001b[39;00m:\n\u001b[0;32m    295\u001b[0m   data_dir \u001b[38;5;241m=\u001b[39m constants\u001b[38;5;241m.\u001b[39mDATA_DIR\n\u001b[1;32m--> 297\u001b[0m dbuilder \u001b[38;5;241m=\u001b[39m builder(name, data_dir\u001b[38;5;241m=\u001b[39mdata_dir, \u001b[38;5;241m*\u001b[39m\u001b[38;5;241m*\u001b[39mbuilder_kwargs)\n\u001b[0;32m    298\u001b[0m \u001b[38;5;28;01mif\u001b[39;00m download:\n\u001b[0;32m    299\u001b[0m   download_and_prepare_kwargs \u001b[38;5;241m=\u001b[39m download_and_prepare_kwargs \u001b[38;5;129;01mor\u001b[39;00m {}\n",
      "File \u001b[1;32m~\\anaconda3\\envs\\py310\\lib\\site-packages\\tensorflow_datasets\\core\\registered.py:167\u001b[0m, in \u001b[0;36mbuilder\u001b[1;34m(name, **builder_init_kwargs)\u001b[0m\n\u001b[0;32m    165\u001b[0m   \u001b[38;5;28;01mraise\u001b[39;00m DatasetNotFoundError(name, in_development\u001b[38;5;241m=\u001b[39m\u001b[38;5;28;01mTrue\u001b[39;00m)\n\u001b[0;32m    166\u001b[0m \u001b[38;5;28;01mif\u001b[39;00m name \u001b[38;5;129;01mnot\u001b[39;00m \u001b[38;5;129;01min\u001b[39;00m _DATASET_REGISTRY:\n\u001b[1;32m--> 167\u001b[0m   \u001b[38;5;28;01mraise\u001b[39;00m DatasetNotFoundError(name)\n\u001b[0;32m    168\u001b[0m \u001b[38;5;28;01mtry\u001b[39;00m:\n\u001b[0;32m    169\u001b[0m   \u001b[38;5;28;01mreturn\u001b[39;00m _DATASET_REGISTRY[name](\u001b[38;5;241m*\u001b[39m\u001b[38;5;241m*\u001b[39mbuilder_kwargs)\n",
      "\u001b[1;31mDatasetNotFoundError\u001b[0m: Dataset malaria not found. Available datasets:\n\t- abstract_reasoning\n\t- aflw2k3d\n\t- amazon_us_reviews\n\t- bair_robot_pushing_small\n\t- bigearthnet\n\t- binarized_mnist\n\t- binary_alpha_digits\n\t- caltech101\n\t- caltech_birds2010\n\t- caltech_birds2011\n\t- cats_vs_dogs\n\t- celeb_a\n\t- celeb_a_hq\n\t- chexpert\n\t- cifar10\n\t- cifar100\n\t- cifar10_corrupted\n\t- clevr\n\t- cnn_dailymail\n\t- coco\n\t- coco2014\n\t- coil100\n\t- colorectal_histology\n\t- colorectal_histology_large\n\t- curated_breast_imaging_ddsm\n\t- cycle_gan\n\t- deep_weeds\n\t- definite_pronoun_resolution\n\t- diabetic_retinopathy_detection\n\t- downsampled_imagenet\n\t- dsprites\n\t- dtd\n\t- dummy_dataset_shared_generator\n\t- dummy_mnist\n\t- emnist\n\t- eurosat\n\t- fashion_mnist\n\t- flores\n\t- food101\n\t- gap\n\t- glue\n\t- groove\n\t- higgs\n\t- horses_or_humans\n\t- image_label_folder\n\t- imagenet2012\n\t- imagenet2012_corrupted\n\t- imdb_reviews\n\t- iris\n\t- kitti\n\t- kmnist\n\t- lfw\n\t- lm1b\n\t- lsun\n\t- mnist\n\t- mnist_corrupted\n\t- moving_mnist\n\t- multi_nli\n\t- nsynth\n\t- omniglot\n\t- open_images_v4\n\t- oxford_flowers102\n\t- oxford_iiit_pet\n\t- para_crawl\n\t- patch_camelyon\n\t- pet_finder\n\t- quickdraw_bitmap\n\t- resisc45\n\t- rock_paper_scissors\n\t- rock_you\n\t- scene_parse150\n\t- shapes3d\n\t- smallnorb\n\t- snli\n\t- so2sat\n\t- squad\n\t- stanford_dogs\n\t- stanford_online_products\n\t- starcraft_video\n\t- sun397\n\t- super_glue\n\t- svhn_cropped\n\t- ted_hrlr_translate\n\t- ted_multi_translate\n\t- tf_flowers\n\t- titanic\n\t- trivia_qa\n\t- uc_merced\n\t- ucf101\n\t- visual_domain_decathlon\n\t- voc2007\n\t- wikipedia\n\t- wmt14_translate\n\t- wmt15_translate\n\t- wmt16_translate\n\t- wmt17_translate\n\t- wmt18_translate\n\t- wmt19_translate\n\t- wmt_t2t_translate\n\t- wmt_translate\n\t- xnli\nCheck that:\n    - the dataset name is spelled correctly\n    - dataset class defines all base class abstract methods\n    - dataset class is not in development, i.e. if IN_DEVELOPMENT=True\n    - the module defining the dataset class is imported\n"
     ]
    }
   ],
   "source": [
    "import json\n",
    "\n",
    "file_path = '\"C:/Users/Mariam/OneDrive/Desktop/CEMA Internship/Image-Classification-Tensorflow-Malaria-Dataset/kyd_ids.json'\n",
    "\n",
    "# Open the JSON file\n",
    "with open(file_path, \"r\") as json_file:\n",
    "    # Load the JSON data into a Python dictionary\n",
    "    data = json.load(json_file)\n",
    "\n",
    "# Now you can work with the data as a Python dictionary\n",
    "print(data)\n"
   ]
  },
  {
   "cell_type": "code",
   "execution_count": null,
   "id": "e82c4422-c843-41d0-9b60-c7f2c4e3acbc",
   "metadata": {},
   "outputs": [],
   "source": [
    "# Preparing the dataset\n",
    "# Setup train and test splits\n",
    "(x_train, y_train), (x_test, y_test) = malaria.load_data()"
   ]
  },
  {
   "cell_type": "code",
   "execution_count": 4,
   "id": "0ce08616-7606-439d-91aa-6d7799d505e0",
   "metadata": {},
   "outputs": [
    {
     "ename": "DatasetNotFoundError",
     "evalue": "Dataset malaria not found. Available datasets:\n\t- abstract_reasoning\n\t- aflw2k3d\n\t- amazon_us_reviews\n\t- bair_robot_pushing_small\n\t- bigearthnet\n\t- binarized_mnist\n\t- binary_alpha_digits\n\t- caltech101\n\t- caltech_birds2010\n\t- caltech_birds2011\n\t- cats_vs_dogs\n\t- celeb_a\n\t- celeb_a_hq\n\t- chexpert\n\t- cifar10\n\t- cifar100\n\t- cifar10_corrupted\n\t- clevr\n\t- cnn_dailymail\n\t- coco\n\t- coco2014\n\t- coil100\n\t- colorectal_histology\n\t- colorectal_histology_large\n\t- curated_breast_imaging_ddsm\n\t- cycle_gan\n\t- deep_weeds\n\t- definite_pronoun_resolution\n\t- diabetic_retinopathy_detection\n\t- downsampled_imagenet\n\t- dsprites\n\t- dtd\n\t- dummy_dataset_shared_generator\n\t- dummy_mnist\n\t- emnist\n\t- eurosat\n\t- fashion_mnist\n\t- flores\n\t- food101\n\t- gap\n\t- glue\n\t- groove\n\t- higgs\n\t- horses_or_humans\n\t- image_label_folder\n\t- imagenet2012\n\t- imagenet2012_corrupted\n\t- imdb_reviews\n\t- iris\n\t- kitti\n\t- kmnist\n\t- lfw\n\t- lm1b\n\t- lsun\n\t- mnist\n\t- mnist_corrupted\n\t- moving_mnist\n\t- multi_nli\n\t- nsynth\n\t- omniglot\n\t- open_images_v4\n\t- oxford_flowers102\n\t- oxford_iiit_pet\n\t- para_crawl\n\t- patch_camelyon\n\t- pet_finder\n\t- quickdraw_bitmap\n\t- resisc45\n\t- rock_paper_scissors\n\t- rock_you\n\t- scene_parse150\n\t- shapes3d\n\t- smallnorb\n\t- snli\n\t- so2sat\n\t- squad\n\t- stanford_dogs\n\t- stanford_online_products\n\t- starcraft_video\n\t- sun397\n\t- super_glue\n\t- svhn_cropped\n\t- ted_hrlr_translate\n\t- ted_multi_translate\n\t- tf_flowers\n\t- titanic\n\t- trivia_qa\n\t- uc_merced\n\t- ucf101\n\t- visual_domain_decathlon\n\t- voc2007\n\t- wikipedia\n\t- wmt14_translate\n\t- wmt15_translate\n\t- wmt16_translate\n\t- wmt17_translate\n\t- wmt18_translate\n\t- wmt19_translate\n\t- wmt_t2t_translate\n\t- wmt_translate\n\t- xnli\nCheck that:\n    - the dataset name is spelled correctly\n    - dataset class defines all base class abstract methods\n    - dataset class is not in development, i.e. if IN_DEVELOPMENT=True\n    - the module defining the dataset class is imported\n",
     "output_type": "error",
     "traceback": [
      "\u001b[1;31m---------------------------------------------------------------------------\u001b[0m",
      "\u001b[1;31mDatasetNotFoundError\u001b[0m                      Traceback (most recent call last)",
      "Cell \u001b[1;32mIn[4], line 1\u001b[0m\n\u001b[1;32m----> 1\u001b[0m ds, info \u001b[38;5;241m=\u001b[39m \u001b[43mtfds\u001b[49m\u001b[38;5;241;43m.\u001b[39;49m\u001b[43mload\u001b[49m\u001b[43m(\u001b[49m\u001b[38;5;124;43m'\u001b[39;49m\u001b[38;5;124;43mmalaria\u001b[39;49m\u001b[38;5;124;43m'\u001b[39;49m\u001b[43m,\u001b[49m\u001b[43m \u001b[49m\u001b[43msplit\u001b[49m\u001b[38;5;241;43m=\u001b[39;49m\u001b[38;5;124;43m'\u001b[39;49m\u001b[38;5;124;43mtrain\u001b[39;49m\u001b[38;5;124;43m'\u001b[39;49m\u001b[43m,\u001b[49m\u001b[43m \u001b[49m\u001b[43mshuffle_files\u001b[49m\u001b[38;5;241;43m=\u001b[39;49m\u001b[38;5;28;43;01mTrue\u001b[39;49;00m\u001b[43m,\u001b[49m\u001b[43m \u001b[49m\u001b[43mwith_info\u001b[49m\u001b[38;5;241;43m=\u001b[39;49m\u001b[38;5;28;43;01mTrue\u001b[39;49;00m\u001b[43m)\u001b[49m\n",
      "File \u001b[1;32m~\\anaconda3\\envs\\py310\\lib\\site-packages\\tensorflow_datasets\\core\\api_utils.py:52\u001b[0m, in \u001b[0;36mdisallow_positional_args.<locals>.disallow_positional_args_dec\u001b[1;34m(fn, instance, args, kwargs)\u001b[0m\n\u001b[0;32m     50\u001b[0m _check_no_positional(fn, args, ismethod, allowed\u001b[38;5;241m=\u001b[39mallowed)\n\u001b[0;32m     51\u001b[0m _check_required(fn, kwargs)\n\u001b[1;32m---> 52\u001b[0m \u001b[38;5;28;01mreturn\u001b[39;00m fn(\u001b[38;5;241m*\u001b[39margs, \u001b[38;5;241m*\u001b[39m\u001b[38;5;241m*\u001b[39mkwargs)\n",
      "File \u001b[1;32m~\\anaconda3\\envs\\py310\\lib\\site-packages\\tensorflow_datasets\\core\\registered.py:297\u001b[0m, in \u001b[0;36mload\u001b[1;34m(name, split, data_dir, batch_size, in_memory, shuffle_files, download, as_supervised, decoders, with_info, builder_kwargs, download_and_prepare_kwargs, as_dataset_kwargs, try_gcs)\u001b[0m\n\u001b[0;32m    294\u001b[0m \u001b[38;5;28;01melif\u001b[39;00m data_dir \u001b[38;5;129;01mis\u001b[39;00m \u001b[38;5;28;01mNone\u001b[39;00m:\n\u001b[0;32m    295\u001b[0m   data_dir \u001b[38;5;241m=\u001b[39m constants\u001b[38;5;241m.\u001b[39mDATA_DIR\n\u001b[1;32m--> 297\u001b[0m dbuilder \u001b[38;5;241m=\u001b[39m builder(name, data_dir\u001b[38;5;241m=\u001b[39mdata_dir, \u001b[38;5;241m*\u001b[39m\u001b[38;5;241m*\u001b[39mbuilder_kwargs)\n\u001b[0;32m    298\u001b[0m \u001b[38;5;28;01mif\u001b[39;00m download:\n\u001b[0;32m    299\u001b[0m   download_and_prepare_kwargs \u001b[38;5;241m=\u001b[39m download_and_prepare_kwargs \u001b[38;5;129;01mor\u001b[39;00m {}\n",
      "File \u001b[1;32m~\\anaconda3\\envs\\py310\\lib\\site-packages\\tensorflow_datasets\\core\\registered.py:167\u001b[0m, in \u001b[0;36mbuilder\u001b[1;34m(name, **builder_init_kwargs)\u001b[0m\n\u001b[0;32m    165\u001b[0m   \u001b[38;5;28;01mraise\u001b[39;00m DatasetNotFoundError(name, in_development\u001b[38;5;241m=\u001b[39m\u001b[38;5;28;01mTrue\u001b[39;00m)\n\u001b[0;32m    166\u001b[0m \u001b[38;5;28;01mif\u001b[39;00m name \u001b[38;5;129;01mnot\u001b[39;00m \u001b[38;5;129;01min\u001b[39;00m _DATASET_REGISTRY:\n\u001b[1;32m--> 167\u001b[0m   \u001b[38;5;28;01mraise\u001b[39;00m DatasetNotFoundError(name)\n\u001b[0;32m    168\u001b[0m \u001b[38;5;28;01mtry\u001b[39;00m:\n\u001b[0;32m    169\u001b[0m   \u001b[38;5;28;01mreturn\u001b[39;00m _DATASET_REGISTRY[name](\u001b[38;5;241m*\u001b[39m\u001b[38;5;241m*\u001b[39mbuilder_kwargs)\n",
      "\u001b[1;31mDatasetNotFoundError\u001b[0m: Dataset malaria not found. Available datasets:\n\t- abstract_reasoning\n\t- aflw2k3d\n\t- amazon_us_reviews\n\t- bair_robot_pushing_small\n\t- bigearthnet\n\t- binarized_mnist\n\t- binary_alpha_digits\n\t- caltech101\n\t- caltech_birds2010\n\t- caltech_birds2011\n\t- cats_vs_dogs\n\t- celeb_a\n\t- celeb_a_hq\n\t- chexpert\n\t- cifar10\n\t- cifar100\n\t- cifar10_corrupted\n\t- clevr\n\t- cnn_dailymail\n\t- coco\n\t- coco2014\n\t- coil100\n\t- colorectal_histology\n\t- colorectal_histology_large\n\t- curated_breast_imaging_ddsm\n\t- cycle_gan\n\t- deep_weeds\n\t- definite_pronoun_resolution\n\t- diabetic_retinopathy_detection\n\t- downsampled_imagenet\n\t- dsprites\n\t- dtd\n\t- dummy_dataset_shared_generator\n\t- dummy_mnist\n\t- emnist\n\t- eurosat\n\t- fashion_mnist\n\t- flores\n\t- food101\n\t- gap\n\t- glue\n\t- groove\n\t- higgs\n\t- horses_or_humans\n\t- image_label_folder\n\t- imagenet2012\n\t- imagenet2012_corrupted\n\t- imdb_reviews\n\t- iris\n\t- kitti\n\t- kmnist\n\t- lfw\n\t- lm1b\n\t- lsun\n\t- mnist\n\t- mnist_corrupted\n\t- moving_mnist\n\t- multi_nli\n\t- nsynth\n\t- omniglot\n\t- open_images_v4\n\t- oxford_flowers102\n\t- oxford_iiit_pet\n\t- para_crawl\n\t- patch_camelyon\n\t- pet_finder\n\t- quickdraw_bitmap\n\t- resisc45\n\t- rock_paper_scissors\n\t- rock_you\n\t- scene_parse150\n\t- shapes3d\n\t- smallnorb\n\t- snli\n\t- so2sat\n\t- squad\n\t- stanford_dogs\n\t- stanford_online_products\n\t- starcraft_video\n\t- sun397\n\t- super_glue\n\t- svhn_cropped\n\t- ted_hrlr_translate\n\t- ted_multi_translate\n\t- tf_flowers\n\t- titanic\n\t- trivia_qa\n\t- uc_merced\n\t- ucf101\n\t- visual_domain_decathlon\n\t- voc2007\n\t- wikipedia\n\t- wmt14_translate\n\t- wmt15_translate\n\t- wmt16_translate\n\t- wmt17_translate\n\t- wmt18_translate\n\t- wmt19_translate\n\t- wmt_t2t_translate\n\t- wmt_translate\n\t- xnli\nCheck that:\n    - the dataset name is spelled correctly\n    - dataset class defines all base class abstract methods\n    - dataset class is not in development, i.e. if IN_DEVELOPMENT=True\n    - the module defining the dataset class is imported\n"
     ]
    }
   ],
   "source": [
    "ds, info = tfds.load('malaria', split='train', shuffle_files=True, with_info=True)"
   ]
  },
  {
   "cell_type": "code",
   "execution_count": null,
   "id": "159e4e24-1a0b-4c1c-8b4d-e7642ffeed53",
   "metadata": {},
   "outputs": [],
   "source": [
    "train_df = malaria_ds['train']\n",
    "test_df = malaria['test']"
   ]
  },
  {
   "cell_type": "code",
   "execution_count": null,
   "id": "4face875-1008-43a6-a173-9bc031c0d6d5",
   "metadata": {},
   "outputs": [],
   "source": [
    "!pip install pandas"
   ]
  },
  {
   "cell_type": "code",
   "execution_count": null,
   "id": "428996e6",
   "metadata": {},
   "outputs": [],
   "source": []
  }
 ],
 "metadata": {
  "kernelspec": {
   "display_name": "Python 3 (ipykernel)",
   "language": "python",
   "name": "python3"
  },
  "language_info": {
   "codemirror_mode": {
    "name": "ipython",
    "version": 3
   },
   "file_extension": ".py",
   "mimetype": "text/x-python",
   "name": "python",
   "nbconvert_exporter": "python",
   "pygments_lexer": "ipython3",
   "version": "3.10.13"
  }
 },
 "nbformat": 4,
 "nbformat_minor": 5
}
